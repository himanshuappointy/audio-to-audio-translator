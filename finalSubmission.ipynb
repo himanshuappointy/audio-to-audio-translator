{
  "cells": [
    {
      "cell_type": "markdown",
      "metadata": {
        "id": "view-in-github",
        "colab_type": "text"
      },
      "source": [
        "<a href=\"https://colab.research.google.com/github/himanshuappointy/audio-to-audio-translator/blob/main/finalSubmission.ipynb\" target=\"_parent\"><img src=\"https://colab.research.google.com/assets/colab-badge.svg\" alt=\"Open In Colab\"/></a>"
      ]
    },
    {
      "cell_type": "code",
      "execution_count": null,
      "metadata": {
        "id": "YyTbXC0apc1n"
      },
      "outputs": [],
      "source": [
        "!pip install git+https://github.com/huggingface/transformers"
      ]
    },
    {
      "cell_type": "code",
      "execution_count": null,
      "metadata": {
        "id": "LCgg_XIzp6tW"
      },
      "outputs": [],
      "source": [
        "!wget -O audio.mp3 http://www.moviesoundclips.net/movies1/darkknight/criminal.mp3"
      ]
    },
    {
      "cell_type": "code",
      "execution_count": null,
      "metadata": {
        "id": "ICP9XCrip-uY"
      },
      "outputs": [],
      "source": [
        "from transformers import pipeline"
      ]
    },
    {
      "cell_type": "code",
      "execution_count": null,
      "metadata": {
        "colab": {
          "background_save": true
        },
        "id": "O4Ru9EYVqAqW"
      },
      "outputs": [],
      "source": [
        "import torch\n",
        "from transformers import pipeline\n",
        "\n",
        "# Check if CUDA is available and set the device accordingly\n",
        "device = 0 if torch.cuda.is_available() else -1\n",
        "\n",
        "whisper = pipeline('automatic-speech-recognition', model = 'openai/whisper-medium', device = device)"
      ]
    },
    {
      "cell_type": "code",
      "execution_count": null,
      "metadata": {
        "colab": {
          "background_save": true
        },
        "id": "V4rYTmYhqD43"
      },
      "outputs": [],
      "source": [
        "text = whisper('audio.mp3')"
      ]
    },
    {
      "cell_type": "code",
      "execution_count": null,
      "metadata": {
        "colab": {
          "background_save": true
        },
        "id": "v9_VgB6-qGfC"
      },
      "outputs": [],
      "source": [
        "print(text[\"text\"])"
      ]
    },
    {
      "cell_type": "code",
      "execution_count": null,
      "metadata": {
        "id": "wYddHshlqKPp"
      },
      "outputs": [],
      "source": [
        "!pip install -y TTS\n",
        "from TTS.api import TTS\n",
        "\n",
        "# Explicitly set gpu to False\n",
        "tts = TTS(\"tts_models/multilingual/multi-dataset/xtts_v2\", gpu=False)\n",
        "\n",
        "st = text[\"text\"];"
      ]
    },
    {
      "cell_type": "code",
      "execution_count": null,
      "metadata": {
        "id": "P8GKgT3bsbFy"
      },
      "outputs": [],
      "source": [
        "!pip install pyngrok\n",
        "!pip install flask"
      ]
    },
    {
      "cell_type": "code",
      "execution_count": null,
      "metadata": {
        "colab": {
          "base_uri": "https://localhost:8080/"
        },
        "id": "Zx4DI-SSsdoO",
        "outputId": "6dcf85ae-ee78-4b49-e3a8-3970c6dd678d"
      },
      "outputs": [
        {
          "name": "stdout",
          "output_type": "stream",
          "text": []
        }
      ],
      "source": [
        "from pyngrok import ngrok\n",
        "ngrok.set_auth_token(\"2igYKIgnugGO7FhRo9xPwvLA4Yb_3PDsPKajxQpuFFmddWC6h\")"
      ]
    },
    {
      "cell_type": "code",
      "execution_count": null,
      "metadata": {
        "colab": {
          "background_save": true
        },
        "id": "CEKDyHGgshYG"
      },
      "outputs": [],
      "source": [
        "from flask import Flask, request, send_file\n",
        "from pyngrok import ngrok\n",
        "app = Flask(__name__)\n",
        "\n",
        "@app.route('/', methods=['GET'])\n",
        "def index():\n",
        "    return \"Hello, World!\"\n",
        "\n",
        "@app.route('/generate', methods=['POST'])\n",
        "def generate():\n",
        "    audio_file = request.files['audio']\n",
        "    print(\"this is the file printed\")\n",
        "    print(audio_file)\n",
        "    ref_audio = request.files['ref_audio']\n",
        "    print(\"this is the file name\")\n",
        "    print(audio_file.filename)\n",
        "    audio_file.save(audio_file.filename)\n",
        "    ref_audio.save(ref_audio.filename)\n",
        "    text = whisper(audio_file.filename)\n",
        "    st = text[\"text\"]\n",
        "\n",
        "    text1 = whisper(audio_file.filename);\n",
        "    # print(text1[\"text\"])\n",
        "\n",
        "    sentence_to_speak = text1[\"text\"];\n",
        "    # sentence_to_speak = \"The human brain is an amazing organ\";\n",
        "\n",
        "    tts.tts_to_file(text=sentence_to_speak, file_path=\"latest_output.wav\", speaker_wav=ref_audio.filename, language=\"en\")\n",
        "    return send_file(\n",
        "        \"latest_output.wav\",\n",
        "        mimetype=\"audio/wav\",\n",
        "        as_attachment=True,\n",
        "    )\n",
        "\n",
        "\n",
        "if __name__ == '__main__':\n",
        "    public_url = ngrok.connect(\"5000\").public_url\n",
        "    print(\"Public URL:\", public_url)\n",
        "    app.run()\n"
      ]
    }
  ],
  "metadata": {
    "accelerator": "GPU",
    "colab": {
      "gpuType": "T4",
      "provenance": [],
      "authorship_tag": "ABX9TyP9seRQuVuy5Phj+/ARFdVP",
      "include_colab_link": true
    },
    "kernelspec": {
      "display_name": "Python 3",
      "name": "python3"
    },
    "language_info": {
      "name": "python"
    }
  },
  "nbformat": 4,
  "nbformat_minor": 0
}